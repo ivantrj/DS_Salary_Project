{
 "cells": [
  {
   "cell_type": "code",
   "execution_count": 1,
   "id": "56b26c03",
   "metadata": {},
   "outputs": [],
   "source": [
    "import pandas as pd\n",
    "df = pd.read_csv(\"glassdoor_jobs.csv\")"
   ]
  },
  {
   "cell_type": "code",
   "execution_count": 2,
   "id": "3838fa05",
   "metadata": {},
   "outputs": [
    {
     "data": {
      "text/html": [
       "<div>\n",
       "<style scoped>\n",
       "    .dataframe tbody tr th:only-of-type {\n",
       "        vertical-align: middle;\n",
       "    }\n",
       "\n",
       "    .dataframe tbody tr th {\n",
       "        vertical-align: top;\n",
       "    }\n",
       "\n",
       "    .dataframe thead th {\n",
       "        text-align: right;\n",
       "    }\n",
       "</style>\n",
       "<table border=\"1\" class=\"dataframe\">\n",
       "  <thead>\n",
       "    <tr style=\"text-align: right;\">\n",
       "      <th></th>\n",
       "      <th>Unnamed: 0</th>\n",
       "      <th>index</th>\n",
       "      <th>Job Title</th>\n",
       "      <th>Salary Estimate</th>\n",
       "      <th>Job Description</th>\n",
       "      <th>Rating</th>\n",
       "      <th>Company Name</th>\n",
       "      <th>Location</th>\n",
       "      <th>Headquarters</th>\n",
       "      <th>Size</th>\n",
       "      <th>Founded</th>\n",
       "      <th>Type of ownership</th>\n",
       "      <th>Industry</th>\n",
       "      <th>Sector</th>\n",
       "      <th>Revenue</th>\n",
       "      <th>Competitors</th>\n",
       "      <th>Easy Apply</th>\n",
       "    </tr>\n",
       "  </thead>\n",
       "  <tbody>\n",
       "    <tr>\n",
       "      <th>0</th>\n",
       "      <td>0</td>\n",
       "      <td>0</td>\n",
       "      <td>Senior Data Scientist</td>\n",
       "      <td>$111K-$181K (Glassdoor est.)</td>\n",
       "      <td>ABOUT HOPPER\\r\\n\\r\\nAt Hopper, we’re on a miss...</td>\n",
       "      <td>3.5</td>\n",
       "      <td>Hopper\\r\\n3.5</td>\n",
       "      <td>New York, NY</td>\n",
       "      <td>Montreal, Canada</td>\n",
       "      <td>501 to 1000 employees</td>\n",
       "      <td>2007</td>\n",
       "      <td>Company - Private</td>\n",
       "      <td>Travel Agencies</td>\n",
       "      <td>Travel &amp; Tourism</td>\n",
       "      <td>Unknown / Non-Applicable</td>\n",
       "      <td>-1</td>\n",
       "      <td>-1</td>\n",
       "    </tr>\n",
       "    <tr>\n",
       "      <th>1</th>\n",
       "      <td>1</td>\n",
       "      <td>1</td>\n",
       "      <td>Data Scientist, Product Analytics</td>\n",
       "      <td>$111K-$181K (Glassdoor est.)</td>\n",
       "      <td>At Noom, we use scientifically proven methods ...</td>\n",
       "      <td>4.5</td>\n",
       "      <td>Noom US\\r\\n4.5</td>\n",
       "      <td>New York, NY</td>\n",
       "      <td>New York, NY</td>\n",
       "      <td>1001 to 5000 employees</td>\n",
       "      <td>2008</td>\n",
       "      <td>Company - Private</td>\n",
       "      <td>Health, Beauty, &amp; Fitness</td>\n",
       "      <td>Consumer Services</td>\n",
       "      <td>Unknown / Non-Applicable</td>\n",
       "      <td>-1</td>\n",
       "      <td>-1</td>\n",
       "    </tr>\n",
       "    <tr>\n",
       "      <th>2</th>\n",
       "      <td>2</td>\n",
       "      <td>2</td>\n",
       "      <td>Data Science Manager</td>\n",
       "      <td>$111K-$181K (Glassdoor est.)</td>\n",
       "      <td>Decode_M\\r\\n\\r\\nhttps://www.decode-m.com/\\r\\n\\...</td>\n",
       "      <td>-1.0</td>\n",
       "      <td>Decode_M</td>\n",
       "      <td>New York, NY</td>\n",
       "      <td>New York, NY</td>\n",
       "      <td>1 to 50 employees</td>\n",
       "      <td>-1</td>\n",
       "      <td>Unknown</td>\n",
       "      <td>-1</td>\n",
       "      <td>-1</td>\n",
       "      <td>Unknown / Non-Applicable</td>\n",
       "      <td>-1</td>\n",
       "      <td>True</td>\n",
       "    </tr>\n",
       "    <tr>\n",
       "      <th>3</th>\n",
       "      <td>3</td>\n",
       "      <td>3</td>\n",
       "      <td>Data Analyst</td>\n",
       "      <td>$111K-$181K (Glassdoor est.)</td>\n",
       "      <td>Sapphire Digital seeks a dynamic and driven mi...</td>\n",
       "      <td>3.4</td>\n",
       "      <td>Sapphire Digital\\r\\n3.4</td>\n",
       "      <td>Lyndhurst, NJ</td>\n",
       "      <td>Lyndhurst, NJ</td>\n",
       "      <td>201 to 500 employees</td>\n",
       "      <td>2019</td>\n",
       "      <td>Company - Private</td>\n",
       "      <td>Internet</td>\n",
       "      <td>Information Technology</td>\n",
       "      <td>Unknown / Non-Applicable</td>\n",
       "      <td>Zocdoc, Healthgrades</td>\n",
       "      <td>-1</td>\n",
       "    </tr>\n",
       "    <tr>\n",
       "      <th>4</th>\n",
       "      <td>4</td>\n",
       "      <td>4</td>\n",
       "      <td>Director, Data Science</td>\n",
       "      <td>$111K-$181K (Glassdoor est.)</td>\n",
       "      <td>Director, Data Science - (200537)\\r\\nDescripti...</td>\n",
       "      <td>3.4</td>\n",
       "      <td>United Entertainment Group\\r\\n3.4</td>\n",
       "      <td>New York, NY</td>\n",
       "      <td>New York, NY</td>\n",
       "      <td>51 to 200 employees</td>\n",
       "      <td>2007</td>\n",
       "      <td>Company - Private</td>\n",
       "      <td>Advertising &amp; Marketing</td>\n",
       "      <td>Business Services</td>\n",
       "      <td>Unknown / Non-Applicable</td>\n",
       "      <td>BBDO, Grey Group, Droga5</td>\n",
       "      <td>-1</td>\n",
       "    </tr>\n",
       "  </tbody>\n",
       "</table>\n",
       "</div>"
      ],
      "text/plain": [
       "   Unnamed: 0  index                          Job Title  \\\n",
       "0           0      0              Senior Data Scientist   \n",
       "1           1      1  Data Scientist, Product Analytics   \n",
       "2           2      2               Data Science Manager   \n",
       "3           3      3                       Data Analyst   \n",
       "4           4      4             Director, Data Science   \n",
       "\n",
       "                Salary Estimate  \\\n",
       "0  $111K-$181K (Glassdoor est.)   \n",
       "1  $111K-$181K (Glassdoor est.)   \n",
       "2  $111K-$181K (Glassdoor est.)   \n",
       "3  $111K-$181K (Glassdoor est.)   \n",
       "4  $111K-$181K (Glassdoor est.)   \n",
       "\n",
       "                                     Job Description  Rating  \\\n",
       "0  ABOUT HOPPER\\r\\n\\r\\nAt Hopper, we’re on a miss...     3.5   \n",
       "1  At Noom, we use scientifically proven methods ...     4.5   \n",
       "2  Decode_M\\r\\n\\r\\nhttps://www.decode-m.com/\\r\\n\\...    -1.0   \n",
       "3  Sapphire Digital seeks a dynamic and driven mi...     3.4   \n",
       "4  Director, Data Science - (200537)\\r\\nDescripti...     3.4   \n",
       "\n",
       "                        Company Name       Location      Headquarters  \\\n",
       "0                      Hopper\\r\\n3.5   New York, NY  Montreal, Canada   \n",
       "1                     Noom US\\r\\n4.5   New York, NY      New York, NY   \n",
       "2                           Decode_M   New York, NY      New York, NY   \n",
       "3            Sapphire Digital\\r\\n3.4  Lyndhurst, NJ     Lyndhurst, NJ   \n",
       "4  United Entertainment Group\\r\\n3.4   New York, NY      New York, NY   \n",
       "\n",
       "                     Size  Founded  Type of ownership  \\\n",
       "0   501 to 1000 employees     2007  Company - Private   \n",
       "1  1001 to 5000 employees     2008  Company - Private   \n",
       "2       1 to 50 employees       -1            Unknown   \n",
       "3    201 to 500 employees     2019  Company - Private   \n",
       "4     51 to 200 employees     2007  Company - Private   \n",
       "\n",
       "                    Industry                  Sector  \\\n",
       "0            Travel Agencies        Travel & Tourism   \n",
       "1  Health, Beauty, & Fitness       Consumer Services   \n",
       "2                         -1                      -1   \n",
       "3                   Internet  Information Technology   \n",
       "4    Advertising & Marketing       Business Services   \n",
       "\n",
       "                    Revenue               Competitors Easy Apply  \n",
       "0  Unknown / Non-Applicable                        -1         -1  \n",
       "1  Unknown / Non-Applicable                        -1         -1  \n",
       "2  Unknown / Non-Applicable                        -1       True  \n",
       "3  Unknown / Non-Applicable      Zocdoc, Healthgrades         -1  \n",
       "4  Unknown / Non-Applicable  BBDO, Grey Group, Droga5         -1  "
      ]
     },
     "execution_count": 2,
     "metadata": {},
     "output_type": "execute_result"
    }
   ],
   "source": [
    "df.head()"
   ]
  },
  {
   "cell_type": "code",
   "execution_count": 3,
   "id": "5534a80c",
   "metadata": {},
   "outputs": [
    {
     "data": {
      "text/plain": [
       "(3909, 17)"
      ]
     },
     "execution_count": 3,
     "metadata": {},
     "output_type": "execute_result"
    }
   ],
   "source": [
    "df.shape"
   ]
  },
  {
   "cell_type": "markdown",
   "id": "87a1d94d",
   "metadata": {},
   "source": [
    "### Salary Parsing\n",
    "We want: \n",
    "- the company name text only\n",
    "- state field\n",
    "- Age of Company\n",
    "- Parsing of job description(python, etc.)"
   ]
  },
  {
   "cell_type": "code",
   "execution_count": 4,
   "id": "adc7e544",
   "metadata": {},
   "outputs": [],
   "source": [
    "df['hourly'] = df['Salary Estimate'].apply(lambda x: 1 if 'per hour' in x.lower() else 0)"
   ]
  },
  {
   "cell_type": "code",
   "execution_count": 5,
   "id": "eaee9e4d",
   "metadata": {},
   "outputs": [],
   "source": [
    "df['employer_provied'] = df['Salary Estimate'].apply(lambda x: 1 if 'employer provided salary:' in x.lower() else 0)"
   ]
  },
  {
   "cell_type": "code",
   "execution_count": 6,
   "id": "b87bebce",
   "metadata": {},
   "outputs": [],
   "source": [
    "df = df[df['Salary Estimate'] != '-1']"
   ]
  },
  {
   "cell_type": "code",
   "execution_count": 7,
   "id": "cb2b8f18",
   "metadata": {},
   "outputs": [],
   "source": [
    "salary = df['Salary Estimate'].apply(lambda x: x.split('(')[0])"
   ]
  },
  {
   "cell_type": "code",
   "execution_count": 8,
   "id": "a6ac1895",
   "metadata": {},
   "outputs": [
    {
     "data": {
      "text/plain": [
       "0       $111K-$181K \n",
       "1       $111K-$181K \n",
       "2       $111K-$181K \n",
       "3       $111K-$181K \n",
       "4       $111K-$181K \n",
       "            ...     \n",
       "3904     $55K-$112K \n",
       "3905     $55K-$112K \n",
       "3906     $55K-$112K \n",
       "3907     $55K-$112K \n",
       "3908     $55K-$112K \n",
       "Name: Salary Estimate, Length: 3909, dtype: object"
      ]
     },
     "execution_count": 8,
     "metadata": {},
     "output_type": "execute_result"
    }
   ],
   "source": [
    "salary"
   ]
  },
  {
   "cell_type": "code",
   "execution_count": 9,
   "id": "609a5abd",
   "metadata": {},
   "outputs": [],
   "source": [
    "df = df[df['Competitors'] != '-1']"
   ]
  },
  {
   "cell_type": "code",
   "execution_count": 10,
   "id": "02eb4316",
   "metadata": {},
   "outputs": [
    {
     "data": {
      "text/plain": [
       "(1149, 19)"
      ]
     },
     "execution_count": 10,
     "metadata": {},
     "output_type": "execute_result"
    }
   ],
   "source": [
    "df.shape"
   ]
  },
  {
   "cell_type": "code",
   "execution_count": 11,
   "id": "55e597d2",
   "metadata": {},
   "outputs": [],
   "source": [
    "minus_Kd = salary.apply(lambda x: x.replace('K','').replace('$',''))"
   ]
  },
  {
   "cell_type": "code",
   "execution_count": 12,
   "id": "6178c980",
   "metadata": {},
   "outputs": [
    {
     "data": {
      "text/plain": [
       "0       111-181 \n",
       "1       111-181 \n",
       "2       111-181 \n",
       "3       111-181 \n",
       "4       111-181 \n",
       "          ...   \n",
       "3904     55-112 \n",
       "3905     55-112 \n",
       "3906     55-112 \n",
       "3907     55-112 \n",
       "3908     55-112 \n",
       "Name: Salary Estimate, Length: 3909, dtype: object"
      ]
     },
     "execution_count": 12,
     "metadata": {},
     "output_type": "execute_result"
    }
   ],
   "source": [
    "minus_Kd"
   ]
  },
  {
   "cell_type": "code",
   "execution_count": 13,
   "id": "4a5fbfaa",
   "metadata": {},
   "outputs": [],
   "source": [
    "min_hr = minus_Kd.apply(lambda x: x.lower().replace('per hour', '').replace('employer provided salary:', ''))"
   ]
  },
  {
   "cell_type": "code",
   "execution_count": 14,
   "id": "2f5e7440",
   "metadata": {},
   "outputs": [],
   "source": [
    "df['min_salary'] = min_hr.apply(lambda x: int(x.split('-')[0]))"
   ]
  },
  {
   "cell_type": "code",
   "execution_count": 15,
   "id": "1ad4ffdd",
   "metadata": {},
   "outputs": [
    {
     "data": {
      "text/plain": [
       "dtype('int64')"
      ]
     },
     "execution_count": 15,
     "metadata": {},
     "output_type": "execute_result"
    }
   ],
   "source": [
    "df['min_salary'].dtype"
   ]
  },
  {
   "cell_type": "code",
   "execution_count": 16,
   "id": "706929e3",
   "metadata": {},
   "outputs": [],
   "source": [
    "df['max_salary'] = min_hr.apply(lambda x: int(x.split('-')[1]))"
   ]
  },
  {
   "cell_type": "code",
   "execution_count": 17,
   "id": "96b5417d",
   "metadata": {},
   "outputs": [],
   "source": [
    "df['avg_salary'] = (df.min_salary + df.max_salary)/2"
   ]
  },
  {
   "cell_type": "markdown",
   "id": "e5b14d5f",
   "metadata": {},
   "source": [
    "### Company name text only"
   ]
  },
  {
   "cell_type": "code",
   "execution_count": 19,
   "id": "9a04a877",
   "metadata": {},
   "outputs": [],
   "source": [
    " df['company_txt'] = df.apply(lambda x: x['Company Name'] if x['Rating'] < 0 else x['Company Name'][:-3], axis=1)"
   ]
  },
  {
   "cell_type": "markdown",
   "id": "f52df488",
   "metadata": {},
   "source": [
    "## State Field(The State the job is in)"
   ]
  },
  {
   "cell_type": "code",
   "execution_count": 22,
   "id": "c50d1f2e",
   "metadata": {},
   "outputs": [],
   "source": [
    "df['job_state'] = df['Location'].apply(lambda x: x.split(',')[1])"
   ]
  },
  {
   "cell_type": "code",
   "execution_count": 26,
   "id": "bab26300",
   "metadata": {},
   "outputs": [
    {
     "data": {
      "text/plain": [
       " TX                361\n",
       " CA                342\n",
       " IL                119\n",
       " PA                100\n",
       " NY                 90\n",
       " AZ                 76\n",
       " OH                 43\n",
       " NJ                  7\n",
       " FL                  5\n",
       " United Kingdom      4\n",
       " DE                  2\n",
       "Name: job_state, dtype: int64"
      ]
     },
     "execution_count": 26,
     "metadata": {},
     "output_type": "execute_result"
    }
   ],
   "source": [
    "df.job_state.value_counts()"
   ]
  },
  {
   "cell_type": "code",
   "execution_count": 29,
   "id": "2db041e6",
   "metadata": {},
   "outputs": [],
   "source": [
    "df['same_state'] = df.apply(lambda x: 1 if x.Location == x.Headquarters else 0, axis = 1)"
   ]
  },
  {
   "cell_type": "markdown",
   "id": "902f673f",
   "metadata": {},
   "source": [
    "## Age of Company"
   ]
  },
  {
   "cell_type": "code",
   "execution_count": 30,
   "id": "56a643fd",
   "metadata": {},
   "outputs": [],
   "source": [
    "df['age'] = df.Founded.apply(lambda x: x if x < 1 else 2021 - x)"
   ]
  },
  {
   "cell_type": "markdown",
   "id": "4467c674",
   "metadata": {},
   "source": [
    "## Parsing of job descriptions"
   ]
  },
  {
   "cell_type": "code",
   "execution_count": 33,
   "id": "fac531a3",
   "metadata": {},
   "outputs": [
    {
     "data": {
      "text/plain": [
       "3       Sapphire Digital seeks a dynamic and driven mi...\n",
       "4       Director, Data Science - (200537)\\r\\nDescripti...\n",
       "5       Job Brief\\r\\n\\r\\nThe ideal candidate will have...\n",
       "11      PulsePoint™, a global programmatic advertising...\n",
       "12      Medidata: Conquering Diseases Together\\r\\n\\r\\n...\n",
       "                              ...                        \n",
       "3895    Help us transform patients' lives.\\r\\n\\r\\nAt U...\n",
       "3899    Sr Data Analyst\\r\\n\\r\\n\\r\\nJob Description\\r\\n...\n",
       "3900    ICS is working with a Fortune 500, industry le...\n",
       "3903    ApTask is a leading staffing and recruitment c...\n",
       "3908    Help us transform patients' lives.\\r\\nAt UCB, ...\n",
       "Name: Job Description, Length: 1149, dtype: object"
      ]
     },
     "execution_count": 33,
     "metadata": {},
     "output_type": "execute_result"
    }
   ],
   "source": [
    "df['Job Description']"
   ]
  },
  {
   "cell_type": "markdown",
   "id": "c0226d53",
   "metadata": {},
   "source": [
    "### Python"
   ]
  },
  {
   "cell_type": "code",
   "execution_count": 34,
   "id": "b779dbcd",
   "metadata": {},
   "outputs": [],
   "source": [
    "df['python'] = df['Job Description'].apply(lambda x: 1 if 'python' in x.lower() else 0)"
   ]
  },
  {
   "cell_type": "code",
   "execution_count": 35,
   "id": "5b775ea0",
   "metadata": {},
   "outputs": [
    {
     "data": {
      "text/plain": [
       "1    706\n",
       "0    443\n",
       "Name: python, dtype: int64"
      ]
     },
     "execution_count": 35,
     "metadata": {},
     "output_type": "execute_result"
    }
   ],
   "source": [
    "df.python.value_counts()"
   ]
  },
  {
   "cell_type": "markdown",
   "id": "df90a78e",
   "metadata": {},
   "source": [
    "### R Studio"
   ]
  },
  {
   "cell_type": "code",
   "execution_count": 38,
   "id": "94bd95bc",
   "metadata": {},
   "outputs": [],
   "source": [
    "df['r_studio'] = df['Job Description'].apply(lambda x: 1 if 'r studio' in x.lower() or 'r-studio' in x.lower() else 0)"
   ]
  },
  {
   "cell_type": "code",
   "execution_count": 39,
   "id": "d8089f54",
   "metadata": {},
   "outputs": [
    {
     "data": {
      "text/plain": [
       "0    1148\n",
       "1       1\n",
       "Name: r_studio, dtype: int64"
      ]
     },
     "execution_count": 39,
     "metadata": {},
     "output_type": "execute_result"
    }
   ],
   "source": [
    "df.r_studio.value_counts()"
   ]
  },
  {
   "cell_type": "markdown",
   "id": "d0470a15",
   "metadata": {},
   "source": [
    "## Spark"
   ]
  },
  {
   "cell_type": "code",
   "execution_count": 40,
   "id": "d39b8f19",
   "metadata": {},
   "outputs": [],
   "source": [
    "df['spark'] = df['Job Description'].apply(lambda x: 1 if 'spark' in x.lower() else 0)"
   ]
  },
  {
   "cell_type": "code",
   "execution_count": 41,
   "id": "cfeeb67f",
   "metadata": {},
   "outputs": [
    {
     "data": {
      "text/plain": [
       "0    827\n",
       "1    322\n",
       "Name: spark, dtype: int64"
      ]
     },
     "execution_count": 41,
     "metadata": {},
     "output_type": "execute_result"
    }
   ],
   "source": [
    "df.spark.value_counts()"
   ]
  },
  {
   "cell_type": "markdown",
   "id": "e581375e",
   "metadata": {},
   "source": [
    "## AWS"
   ]
  },
  {
   "cell_type": "code",
   "execution_count": 42,
   "id": "98097cdf",
   "metadata": {},
   "outputs": [],
   "source": [
    "df['aws'] = df['Job Description'].apply(lambda x: 1 if 'aws' in x.lower() else 0)"
   ]
  },
  {
   "cell_type": "code",
   "execution_count": 43,
   "id": "ab8eb313",
   "metadata": {},
   "outputs": [
    {
     "data": {
      "text/plain": [
       "0    811\n",
       "1    338\n",
       "Name: aws, dtype: int64"
      ]
     },
     "execution_count": 43,
     "metadata": {},
     "output_type": "execute_result"
    }
   ],
   "source": [
    "df.aws.value_counts()"
   ]
  },
  {
   "cell_type": "markdown",
   "id": "17aff94d",
   "metadata": {},
   "source": [
    "## Excel"
   ]
  },
  {
   "cell_type": "code",
   "execution_count": 44,
   "id": "3a03860e",
   "metadata": {},
   "outputs": [],
   "source": [
    "df['excel'] = df['Job Description'].apply(lambda x: 1 if 'excel' in x.lower() else 0)"
   ]
  },
  {
   "cell_type": "code",
   "execution_count": 45,
   "id": "36f8dfc5",
   "metadata": {},
   "outputs": [
    {
     "data": {
      "text/plain": [
       "1    603\n",
       "0    546\n",
       "Name: excel, dtype: int64"
      ]
     },
     "execution_count": 45,
     "metadata": {},
     "output_type": "execute_result"
    }
   ],
   "source": [
    "df.excel.value_counts()"
   ]
  },
  {
   "cell_type": "code",
   "execution_count": 48,
   "id": "ade59730",
   "metadata": {},
   "outputs": [],
   "source": [
    "df_out = df.drop(['Unnamed: 0'], axis=1)"
   ]
  },
  {
   "cell_type": "code",
   "execution_count": 49,
   "id": "414a4d05",
   "metadata": {},
   "outputs": [],
   "source": [
    "df_out.to_csv('salary_data_cleaned.csv', index = False)"
   ]
  },
  {
   "cell_type": "code",
   "execution_count": null,
   "id": "070a80d0",
   "metadata": {},
   "outputs": [],
   "source": []
  }
 ],
 "metadata": {
  "kernelspec": {
   "display_name": "Python 3",
   "language": "python",
   "name": "python3"
  },
  "language_info": {
   "codemirror_mode": {
    "name": "ipython",
    "version": 3
   },
   "file_extension": ".py",
   "mimetype": "text/x-python",
   "name": "python",
   "nbconvert_exporter": "python",
   "pygments_lexer": "ipython3",
   "version": "3.9.5"
  }
 },
 "nbformat": 4,
 "nbformat_minor": 5
}
